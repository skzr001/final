{
 "cells": [
  {
   "cell_type": "markdown",
   "metadata": {},
   "source": [
    "# Music Genre Classifier by using Lasso regression.\n",
    "\n"
   ]
  },
  {
   "cell_type": "code",
   "execution_count": null,
   "metadata": {
    "collapsed": true
   },
   "outputs": [],
   "source": [
    "import numpy as np\n",
    "\n",
    "Music_Genre=[\"classical\",\"jazz\",\"pop\",\"rock\"]\n",
    "\n",
    "#load train and val data set\n",
    "train_data=np.load(\"./feature_data/train/train_sample.npy\")\n",
    "train_label=np.load(\"./feature_data/train/train_label.npy\")\n",
    "val_data=np.load(\"./feature_data/val/val_sample.npy\")\n",
    "val_label=np.load(\"./feature_data/val/val_label.npy\")"
   ]
  },
  {
   "cell_type": "code",
   "execution_count": 2,
   "metadata": {
    "collapsed": false
   },
   "outputs": [],
   "source": [
    "L = [0.1,1,10,13,15,17,21,30,100]\n"
   ]
  },
  {
   "cell_type": "markdown",
   "metadata": {},
   "source": [
    "# Please implement Lasso_Regression_Classifier "
   ]
  },
  {
   "cell_type": "raw",
   "metadata": {
    "collapsed": false,
    "scrolled": true
   },
   "source": [
    "# Please implement Classifier in the file : Lasso_Regression_Classifier.py\n",
    "from cs536_3.models import Lasso_Regression_Classifier\n",
    "\n",
    "average_win=40 #Student will change this#\n",
    "\n",
    "for l in L: \n",
    "    LRC = Lasso_Regression_Classifier(train_data.transpose(),l,train_label,average_win)\n",
    "    val_pred=LRC.predict(val_data)\n",
    "    val_acc = np.sum(val_pred==val_label)/(1.0*(len(val_pred)))\n",
    "    \n",
    "    print(\"Regularization_L:\".format(),\"Validation Accuracy is\".format(),l,val_acc)"
   ]
  },
  {
   "cell_type": "markdown",
   "metadata": {},
   "source": [
    "# Please select My L and check the test performance."
   ]
  },
  {
   "cell_type": "code",
   "execution_count": 4,
   "metadata": {
    "collapsed": true
   },
   "outputs": [],
   "source": [
    "## Test data load\n",
    "test_data=np.load(\"./feature_data/test/test_sample.npy\")\n",
    "test_label=np.load(\"./feature_data/test/test_label.npy\")"
   ]
  },
  {
   "cell_type": "code",
   "execution_count": null,
   "metadata": {
    "collapsed": true
   },
   "outputs": [],
   "source": [
    "My_L =  #student answer\n",
    "LRC = Lasso_Regression_Classifier(train_data.transpose(),My_L,train_label,average_win)\n",
    "test_pred=LRC.predict(test_data)\n",
    "test_acc = np.sum(test_pred==test_label)/(1.0*len(test_pred))\n",
    "print(\"Regularization_L:\".format(),\"Test Accuracy is\".format(),My_L,test_acc)"
   ]
  },
  {
   "cell_type": "code",
   "execution_count": null,
   "metadata": {
    "collapsed": true
   },
   "outputs": [],
   "source": []
  },
  {
   "cell_type": "code",
   "execution_count": null,
   "metadata": {
    "collapsed": true
   },
   "outputs": [],
   "source": []
  }
 ],
 "metadata": {
  "anaconda-cloud": {},
  "kernelspec": {
   "display_name": "Python 2",
   "language": "python",
   "name": "python2"
  },
  "language_info": {
   "codemirror_mode": {
    "name": "ipython",
    "version": 2
   },
   "file_extension": ".py",
   "mimetype": "text/x-python",
   "name": "python",
   "nbconvert_exporter": "python",
   "pygments_lexer": "ipython2",
   "version": "2.7.6"
  }
 },
 "nbformat": 4,
 "nbformat_minor": 0
}
